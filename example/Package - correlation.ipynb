{
 "cells": [
  {
   "cell_type": "code",
   "execution_count": 1,
   "id": "f36e14b2",
   "metadata": {},
   "outputs": [],
   "source": [
    "import numpy as np\n",
    "import matplotlib.pyplot as plt\n",
    "import pandas as pd\n",
    "import statistics\n",
    "import seaborn as sns\n",
    "import re \n",
    "from operator import itemgetter\n",
    "from statannot import add_stat_annotation\n",
    "import warnings\n",
    "warnings.filterwarnings('ignore')\n",
    "from scipy.stats import pearsonr,spearmanr\n",
    "from sklearn import linear_model, feature_selection, metrics\n",
    "from sklearn.linear_model import HuberRegressor\n",
    "import statsmodels.formula.api as smf\n",
    "from scipy.optimize import curve_fit,minimize"
   ]
  },
  {
   "cell_type": "markdown",
   "id": "1e2c99c0",
   "metadata": {},
   "source": [
    "## Summary of the functions:\n",
    "\n",
    "### 1. excelreader:\n",
    "   - function to open the excel file of the results \n",
    "   - imputs : name of the file .xlsx , the gain you want to use (from 50 to 100),  if you want the correction to go back to FITC equivalent type Yes or YES  if you don't want the correction type \"NO\" \n",
    "  \n",
    "   \n",
    "### 2. plot_raw_data:\n",
    "   - function to plot the raw data\n",
    "   - imputs : the data you want to use (you can call it using the excelreader output) , the number of row for display, the number of columns for display (if the number of conditions is odd you can add one and add a row or a column )\n",
    "   \n",
    "### 3. collapse: \n",
    "   - function to collapse the triplicate into one column\n",
    "   - imputs : the data (dataframe) , how you made the triplicate either 'line' 'col' or if you did not do triplicate 'no', the position of the control well with only H2O in this synthax : ['I2','I3','I4']\n",
    "   \n",
    "### 4. plot_triplicates\n",
    "   - function to plot the mean of all the triplicate \n",
    "   - imputs : the collapsed dataset, if you want the plots in the same axis or not (\"YES\" or \"NO\")"
   ]
  },
  {
   "cell_type": "code",
   "execution_count": 2,
   "id": "cd55f0ed",
   "metadata": {},
   "outputs": [],
   "source": [
    "def excelreader(name,gain,correct):\n",
    "    \n",
    "    time_points = 0 \n",
    "    #open the file \n",
    "    \n",
    "    df_cellfree = pd.ExcelFile(name)\n",
    "    \n",
    "    # find the machine name to know where data start \n",
    "    \n",
    "    test = pd.DataFrame(df_cellfree.parse(0))\n",
    "\n",
    "    if re.search('Synergy',str(test.iloc[7,1])) == None :\n",
    "        \n",
    "        s = 64\n",
    "        \n",
    "        correction = [3720.7,39499,47364,192405]\n",
    "\n",
    "    else: \n",
    "        s = 67\n",
    "        \n",
    "        correction = [5929.3,57884,73091,283567]\n",
    "        \n",
    "        \n",
    "        \n",
    "    #find the number of time points\n",
    "    \n",
    "    if s == 67:\n",
    "        \n",
    "        time_points = int(re.findall(r'\\d+',test.iloc[17,1])[-1])\n",
    "\n",
    "    else : \n",
    "        \n",
    "        time_points = int(re.findall(r'\\d+',test.iloc[16,1])[-1])\n",
    "        \n",
    "    # \"crop\" the table depending on the gain set \n",
    "    \n",
    "    if gain == 50 :\n",
    "        df_Fcellfree = pd.DataFrame(df_cellfree.parse(0).values[s+12+(3*time_points):s+13+(4*time_points)])\n",
    "        c = correction[0]\n",
    "    elif gain == 70 : \n",
    "        df_Fcellfree = pd.DataFrame(df_cellfree.parse(0).values[s+8+(2*time_points):s+9+(3*time_points)])\n",
    "        c = correction[1]\n",
    "    elif gain == 75 : \n",
    "        df_Fcellfree = pd.DataFrame(df_cellfree.parse(0).values[s+4+time_points:s+5+(2*time_points)])\n",
    "        c = correction[2]\n",
    "    elif gain == 100 : \n",
    "        df_Fcellfree = pd.DataFrame(df_cellfree.parse(0).values[s:s+1+time_points])\n",
    "        c = correction[3]\n",
    "\n",
    "    # Label first row as  column names\n",
    "    df_Fcellfree.columns = df_Fcellfree.iloc[0]\n",
    "    \n",
    "\n",
    "    # Drop the first row (Which is column names)\n",
    "    df_Fcellfree = df_Fcellfree.iloc[1: , :]\n",
    "    \n",
    "    \n",
    "    # Drop the First Column ---> Generates \"NAN column\"\n",
    "    df_Fcellfree = df_Fcellfree.iloc[: , 1:]\n",
    "    \n",
    "    \n",
    "    remove = np.asarray(df_Fcellfree.columns)\n",
    "    \n",
    "    \n",
    "    df_Fvalues = df_Fcellfree.reset_index().drop([remove[0],remove[1],'index'],axis = 1).astype('float64')\n",
    "    \n",
    "    \n",
    "    if correct == \"NO\":\n",
    "        df_Fvalues = df_Fvalues  \n",
    "    else:\n",
    "        df_Fvalues = df_Fvalues/c # the calibration to go back to µM \n",
    "    \n",
    "    time_list = [0]\n",
    "    n_rows = df_Fvalues.shape[0]\n",
    "    time_interval =  5 # minutes\n",
    "    time = 0\n",
    "    for i in range(n_rows):\n",
    "        time += time_interval\n",
    "        time_list.append(time)\n",
    "\n",
    "    df_Tvalues = pd.DataFrame([time_list]).transpose().rename(columns={0:'Time'})\n",
    "    \n",
    "    df_Fvalues['Time'] = df_Tvalues['Time']\n",
    "\n",
    "    return (df_Fvalues)"
   ]
  },
  {
   "cell_type": "code",
   "execution_count": 3,
   "id": "42f45e9b",
   "metadata": {},
   "outputs": [],
   "source": [
    "def plot_raw_data(data,nr,nc):\n",
    "    fig,axs = plt.subplots(nr, nc, sharex = True, sharey = True,figsize=(30, 30))\n",
    "    counter = 0\n",
    "    for i in range(nr):\n",
    "        for j in range(nc):\n",
    "            axs[i,j].plot(data['Time'],data[data.columns[counter]])\n",
    "            counter+=1\n",
    "    plt.show()"
   ]
  },
  {
   "cell_type": "code",
   "execution_count": 4,
   "id": "edf6631b",
   "metadata": {},
   "outputs": [],
   "source": [
    "def collapse(data,tripl,control):\n",
    "    \n",
    "    #create a variable with names of the columns\n",
    "    \n",
    "    col=[]\n",
    "    name =[]\n",
    "    \n",
    "    for ch in data.columns[:-1]:\n",
    "        col.append(ch)\n",
    "\n",
    "    #if the imput is line then the triplicate are a list of the column name 3 by 3 \n",
    "    \n",
    "    if tripl == 'line': \n",
    "\n",
    "        i = 0\n",
    "        j = 0\n",
    "        while i < round((len(col)/3),0):\n",
    "            name.append([col[j],col[j+1],col[j+2]])\n",
    "            i= i +1\n",
    "            j = j+3 \n",
    "            \n",
    "    elif tripl == 'col':\n",
    "        \n",
    "        #create a list of the repeating letters\n",
    "        duplicates = []\n",
    "        for char in re.findall('[a-zA-Z]',str(col)):\n",
    "            ## checking whether the character have a duplicate or not\n",
    "            ## str.count(char) returns the frequency of a char in the str\n",
    "            if str(col).count(char) > 1:\n",
    "                []\n",
    "            ## appending to the list if it's already not present\n",
    "\n",
    "            if char not in duplicates :\n",
    "\n",
    "                duplicates.append(char)\n",
    "        \n",
    "        #create a list of the repeated number\n",
    "        b = list(np.array_split(re.findall(r'\\d+ ?',str(col)),len(duplicates))[0])\n",
    "\n",
    "        #for each repeating number add the repeating letter \n",
    "\n",
    "        li = []\n",
    "\n",
    "        for i in b :\n",
    "            for j in duplicates :\n",
    "                li.append(j+str(i))\n",
    "\n",
    "\n",
    "        #create a list of list containing 3 by 3 the name of the previous list\n",
    "\n",
    "        i = 0 \n",
    "        j = 0\n",
    "        name=[]\n",
    "        \n",
    "              \n",
    "        while i < len(li)/3:\n",
    "            name.append([li[j],li[j+1],li[j+2]])\n",
    "            i= i +1\n",
    "            j = j+3  \n",
    "\n",
    "    else : \n",
    "        name = col\n",
    "        \n",
    "    pos = []\n",
    "    collapse = name\n",
    "    \n",
    "    list_bg = control\n",
    "    \n",
    "    df_Fbg = data[list_bg]\n",
    "    df_Fbg['mean'] = df_Fbg.mean(axis=1)\n",
    "    \n",
    "    for col,i in zip(collapse,range(len(collapse))):\n",
    "\n",
    "        list_flu = collapse\n",
    "        df_flu = data[col]\n",
    "        df_flu['mean'] = df_flu.mean(axis=1)\n",
    "        df_flu['cor'] = df_flu['mean']-df_Fbg['mean']\n",
    "\n",
    "        # Build the Backgruond Table...\n",
    "        # TIME\n",
    "        df_flut = data['Time']\n",
    "\n",
    "        # MEAN\n",
    "        df_flut['mean'] = df_flu['mean']\n",
    "        df_flut['cor'] = df_flu['cor']\n",
    "\n",
    "        #df_flut.head()\n",
    "\n",
    "        data[str(col)] = df_flut['cor']\n",
    "    \n",
    "    for i in range(len(name)):\n",
    "        pos.append(str(name[i]))\n",
    "    \n",
    "    df_Fcollapse = data[pos]\n",
    "    df_Fcollapse['Time'] = data['Time']\n",
    "    \n",
    "    df_Fcollapse[df_Fcollapse<0]=0\n",
    "    \n",
    "    return (df_Fcollapse)"
   ]
  },
  {
   "cell_type": "code",
   "execution_count": 5,
   "id": "f4e65c41",
   "metadata": {},
   "outputs": [],
   "source": [
    "def plot_triplicates(data,sa):\n",
    "    std = []\n",
    "    for i in data.columns.values[:-1]:\n",
    "        std.append(statistics.stdev(data[i]))\n",
    "\n",
    "    if sa == \"NO\":\n",
    "        for col,i in zip(data.columns,range(len(data.columns.values)-1)):\n",
    "            plt.errorbar(data['Time'],data[col],yerr=std[i],label=data.columns.values[:-1][i])\n",
    "            plt.legend(loc='center left', bbox_to_anchor=(1, 0.5))\n",
    "            plt.show()\n",
    "    elif sa ==\"YES\":\n",
    "        for col,i in zip(data.columns,range(len(data.columns.values)-1)):\n",
    "            plt.errorbar(data['Time'],data[col],yerr=std[i],label=data.columns.values[:-1][i])\n",
    "            plt.legend(loc='center left', bbox_to_anchor=(1, 0.5))\n",
    "    plt.show()"
   ]
  },
  {
   "cell_type": "code",
   "execution_count": 6,
   "id": "db384540",
   "metadata": {
    "scrolled": false
   },
   "outputs": [
    {
     "data": {
      "text/html": [
       "<div>\n",
       "<style scoped>\n",
       "    .dataframe tbody tr th:only-of-type {\n",
       "        vertical-align: middle;\n",
       "    }\n",
       "\n",
       "    .dataframe tbody tr th {\n",
       "        vertical-align: top;\n",
       "    }\n",
       "\n",
       "    .dataframe thead th {\n",
       "        text-align: right;\n",
       "    }\n",
       "</style>\n",
       "<table border=\"1\" class=\"dataframe\">\n",
       "  <thead>\n",
       "    <tr style=\"text-align: right;\">\n",
       "      <th></th>\n",
       "      <th>['B15', 'C15', 'D15']</th>\n",
       "      <th>['E15', 'F15', 'G15']</th>\n",
       "      <th>['B16', 'C16', 'D16']</th>\n",
       "      <th>['E16', 'F16', 'G16']</th>\n",
       "      <th>['B17', 'C17', 'D17']</th>\n",
       "      <th>['E17', 'F17', 'G17']</th>\n",
       "      <th>['B18', 'C18', 'D18']</th>\n",
       "      <th>['E18', 'F18', 'G18']</th>\n",
       "      <th>['B19', 'C19', 'D19']</th>\n",
       "      <th>['E19', 'F19', 'G19']</th>\n",
       "      <th>['B20', 'C20', 'D20']</th>\n",
       "      <th>['E20', 'F20', 'G20']</th>\n",
       "      <th>['B21', 'C21', 'D21']</th>\n",
       "      <th>['E21', 'F21', 'G21']</th>\n",
       "      <th>['B22', 'C22', 'D22']</th>\n",
       "      <th>['E22', 'F22', 'G22']</th>\n",
       "      <th>Time</th>\n",
       "    </tr>\n",
       "  </thead>\n",
       "  <tbody>\n",
       "    <tr>\n",
       "      <th>0</th>\n",
       "      <td>0.000000</td>\n",
       "      <td>0.000000</td>\n",
       "      <td>0.000000</td>\n",
       "      <td>0.000000</td>\n",
       "      <td>0.000000</td>\n",
       "      <td>0.000292</td>\n",
       "      <td>0.000000</td>\n",
       "      <td>0.000000</td>\n",
       "      <td>0.000105</td>\n",
       "      <td>0.000000</td>\n",
       "      <td>0.000000</td>\n",
       "      <td>0.000000</td>\n",
       "      <td>0.000000</td>\n",
       "      <td>0.000000</td>\n",
       "      <td>0.000000</td>\n",
       "      <td>0.0</td>\n",
       "      <td>0</td>\n",
       "    </tr>\n",
       "    <tr>\n",
       "      <th>1</th>\n",
       "      <td>0.000369</td>\n",
       "      <td>0.000196</td>\n",
       "      <td>0.000251</td>\n",
       "      <td>0.000205</td>\n",
       "      <td>0.000502</td>\n",
       "      <td>0.000625</td>\n",
       "      <td>0.000301</td>\n",
       "      <td>0.000000</td>\n",
       "      <td>0.000383</td>\n",
       "      <td>0.000014</td>\n",
       "      <td>0.000315</td>\n",
       "      <td>0.000246</td>\n",
       "      <td>0.000000</td>\n",
       "      <td>0.000036</td>\n",
       "      <td>0.000000</td>\n",
       "      <td>0.0</td>\n",
       "      <td>5</td>\n",
       "    </tr>\n",
       "    <tr>\n",
       "      <th>2</th>\n",
       "      <td>0.000474</td>\n",
       "      <td>0.000000</td>\n",
       "      <td>0.000315</td>\n",
       "      <td>0.000219</td>\n",
       "      <td>0.000616</td>\n",
       "      <td>0.000379</td>\n",
       "      <td>0.000351</td>\n",
       "      <td>0.000000</td>\n",
       "      <td>0.000702</td>\n",
       "      <td>0.000000</td>\n",
       "      <td>0.000556</td>\n",
       "      <td>0.000073</td>\n",
       "      <td>0.000014</td>\n",
       "      <td>0.000036</td>\n",
       "      <td>0.000205</td>\n",
       "      <td>0.0</td>\n",
       "      <td>10</td>\n",
       "    </tr>\n",
       "    <tr>\n",
       "      <th>3</th>\n",
       "      <td>0.001104</td>\n",
       "      <td>0.000233</td>\n",
       "      <td>0.001090</td>\n",
       "      <td>0.000438</td>\n",
       "      <td>0.001172</td>\n",
       "      <td>0.000169</td>\n",
       "      <td>0.000848</td>\n",
       "      <td>0.000091</td>\n",
       "      <td>0.001113</td>\n",
       "      <td>0.000141</td>\n",
       "      <td>0.000949</td>\n",
       "      <td>0.000000</td>\n",
       "      <td>0.000825</td>\n",
       "      <td>0.000369</td>\n",
       "      <td>0.000643</td>\n",
       "      <td>0.0</td>\n",
       "      <td>15</td>\n",
       "    </tr>\n",
       "    <tr>\n",
       "      <th>4</th>\n",
       "      <td>0.001391</td>\n",
       "      <td>0.000246</td>\n",
       "      <td>0.001450</td>\n",
       "      <td>0.000347</td>\n",
       "      <td>0.001240</td>\n",
       "      <td>0.000337</td>\n",
       "      <td>0.000953</td>\n",
       "      <td>0.000962</td>\n",
       "      <td>0.001546</td>\n",
       "      <td>0.000985</td>\n",
       "      <td>0.000725</td>\n",
       "      <td>0.000046</td>\n",
       "      <td>0.001897</td>\n",
       "      <td>0.002007</td>\n",
       "      <td>0.000702</td>\n",
       "      <td>0.0</td>\n",
       "      <td>20</td>\n",
       "    </tr>\n",
       "  </tbody>\n",
       "</table>\n",
       "</div>"
      ],
      "text/plain": [
       "0  ['B15', 'C15', 'D15']  ['E15', 'F15', 'G15']  ['B16', 'C16', 'D16']  \\\n",
       "0               0.000000               0.000000               0.000000   \n",
       "1               0.000369               0.000196               0.000251   \n",
       "2               0.000474               0.000000               0.000315   \n",
       "3               0.001104               0.000233               0.001090   \n",
       "4               0.001391               0.000246               0.001450   \n",
       "\n",
       "0  ['E16', 'F16', 'G16']  ['B17', 'C17', 'D17']  ['E17', 'F17', 'G17']  \\\n",
       "0               0.000000               0.000000               0.000292   \n",
       "1               0.000205               0.000502               0.000625   \n",
       "2               0.000219               0.000616               0.000379   \n",
       "3               0.000438               0.001172               0.000169   \n",
       "4               0.000347               0.001240               0.000337   \n",
       "\n",
       "0  ['B18', 'C18', 'D18']  ['E18', 'F18', 'G18']  ['B19', 'C19', 'D19']  \\\n",
       "0               0.000000               0.000000               0.000105   \n",
       "1               0.000301               0.000000               0.000383   \n",
       "2               0.000351               0.000000               0.000702   \n",
       "3               0.000848               0.000091               0.001113   \n",
       "4               0.000953               0.000962               0.001546   \n",
       "\n",
       "0  ['E19', 'F19', 'G19']  ['B20', 'C20', 'D20']  ['E20', 'F20', 'G20']  \\\n",
       "0               0.000000               0.000000               0.000000   \n",
       "1               0.000014               0.000315               0.000246   \n",
       "2               0.000000               0.000556               0.000073   \n",
       "3               0.000141               0.000949               0.000000   \n",
       "4               0.000985               0.000725               0.000046   \n",
       "\n",
       "0  ['B21', 'C21', 'D21']  ['E21', 'F21', 'G21']  ['B22', 'C22', 'D22']  \\\n",
       "0               0.000000               0.000000               0.000000   \n",
       "1               0.000000               0.000036               0.000000   \n",
       "2               0.000014               0.000036               0.000205   \n",
       "3               0.000825               0.000369               0.000643   \n",
       "4               0.001897               0.002007               0.000702   \n",
       "\n",
       "0  ['E22', 'F22', 'G22']  Time  \n",
       "0                    0.0     0  \n",
       "1                    0.0     5  \n",
       "2                    0.0    10  \n",
       "3                    0.0    15  \n",
       "4                    0.0    20  "
      ]
     },
     "execution_count": 6,
     "metadata": {},
     "output_type": "execute_result"
    }
   ],
   "source": [
    "def main(data,gain,cor,nr,nc,tripl,control,sa):\n",
    "    \n",
    "    file = excelreader(data,gain,cor)\n",
    "    \n",
    "    #plot_raw_data(file,nr,nc)\n",
    "    \n",
    "    fileC = collapse(file,tripl,control)\n",
    "        \n",
    "    #plot_triplicates(fileC,sa)\n",
    "    \n",
    "    return fileC\n",
    "\n",
    "# test\n",
    "\n",
    "df_init = main('data/11.03.22 cell free.xlsx',75,\"YES\",6,8,'col',['E22', 'F22', 'G22'],\"YES\")\n",
    "\n",
    "df_init.head()"
   ]
  },
  {
   "cell_type": "markdown",
   "id": "989f18b3",
   "metadata": {},
   "source": [
    "# Plot the integrases"
   ]
  },
  {
   "cell_type": "code",
   "execution_count": 7,
   "id": "e33528cd",
   "metadata": {},
   "outputs": [
    {
     "data": {
      "text/plain": [
       "'\\nsns.set_context(\"talk\") \\n\\nsns.barplot(x=ints.values[-1],y=ints.columns.values,palette=\\'colorblind\\')\\nplt.errorbar(ints.values[-1], ints.columns.values, xerr=std,ecolor=\\'black\\',fmt=\\'.k\\')\\nplt.xlabel(\"\")\\nplt.title(\"Equivalent in FITC (µM)\")\\nplt.tight_layout()\\nplt.savefig(\\'plots/Simple Integrases.png\\',dpi=300)\\nplt.show()\\n'"
      ]
     },
     "execution_count": 7,
     "metadata": {},
     "output_type": "execute_result"
    }
   ],
   "source": [
    "plt.rcParams['xtick.bottom'] = plt.rcParams['xtick.labelbottom'] = False\n",
    "plt.rcParams['xtick.top'] = plt.rcParams['xtick.labeltop'] = True\n",
    "\n",
    "df_init = main('data/11.03.22 cell free.xlsx',75,\"YES\",6,8,'col',['E22', 'F22', 'G22'],\"YES\")\n",
    "\n",
    "intcol = [\"['B20', 'C20', 'D20']\",\"['B21', 'C21', 'D21']\",\"['B22', 'C22', 'D22']\",\"['B15', 'C15', 'D15']\",\"['B16', 'C16', 'D16']\", \"['B17', 'C17', 'D17']\",\"['B18', 'C18', 'D18']\",\"['B19', 'C19', 'D19']\"]\n",
    "intcol.sort()\n",
    "name = [\"Tp901 Not\",\"Tp901 ID\",\"Bxb1 Not\",\"Bxb1 ID\",\"Int5 Not\",\"Int5 ID\",\"Int7 Not\",\"Int7 ID\"]\n",
    "\n",
    "ints = pd.DataFrame()\n",
    "std = []\n",
    "for i in range(len(intcol)):\n",
    "    ints[name[i]] = df_init[intcol[i]]\n",
    "for j in ints.columns:\n",
    "    std.append(statistics.stdev(ints[j]))   \n",
    "\n",
    "'''\n",
    "sns.set_context(\"talk\") \n",
    "\n",
    "sns.barplot(x=ints.values[-1],y=ints.columns.values,palette='colorblind')\n",
    "plt.errorbar(ints.values[-1], ints.columns.values, xerr=std,ecolor='black',fmt='.k')\n",
    "plt.xlabel(\"\")\n",
    "plt.title(\"Equivalent in FITC (µM)\")\n",
    "plt.tight_layout()\n",
    "plt.savefig('plots/Simple Integrases.png',dpi=300)\n",
    "plt.show()\n",
    "'''"
   ]
  },
  {
   "cell_type": "markdown",
   "id": "b48132e5",
   "metadata": {},
   "source": [
    "# Correlation"
   ]
  },
  {
   "cell_type": "markdown",
   "id": "0f314ed1",
   "metadata": {},
   "source": [
    "## Visual observation"
   ]
  },
  {
   "cell_type": "code",
   "execution_count": 11,
   "id": "ac8f0c92",
   "metadata": {},
   "outputs": [
    {
     "name": "stdout",
     "output_type": "stream",
     "text": [
      "           Cell-free         Cyto\n",
      "Tp901 Not   0.097230  31370.28500\n",
      "Tp901 ID    0.057102  16232.09600\n",
      "Bxb1 Not    0.161164  63220.47700\n",
      "Bxb1 ID     0.000465    373.34436\n",
      "Int5 Not    0.343622  58798.44500\n",
      "Int5 ID     0.000999    162.51492\n",
      "Int7 Not    0.541348  53784.26000\n",
      "Int7 ID     0.001546    149.13892\n"
     ]
    },
    {
     "data": {
      "image/png": "[encoded data removed]",
      "text/plain": [
       "<Figure size 432x288 with 1 Axes>"
      ]
     },
     "metadata": {
      "needs_background": "light"
     },
     "output_type": "display_data"
    }
   ],
   "source": [
    "plt.rcParams['xtick.bottom'] = plt.rcParams['xtick.labelbottom'] = True\n",
    "plt.rcParams['xtick.top'] = plt.rcParams['xtick.labeltop'] = False\n",
    "\n",
    "\n",
    "# Import the value for each integrases in a list\n",
    "\n",
    "cyto= [31370.285,\n",
    " 16232.096,\n",
    " 63220.477,\n",
    " 373.34436,\n",
    " 58798.445,\n",
    " 162.51492,\n",
    " 53784.26,\n",
    " 149.13892]\n",
    "\n",
    "#put in a dataframe both value for easier ploting \n",
    "\n",
    "cf = ints[-1:].T \n",
    "\n",
    "df_correl = pd.DataFrame(cf)\n",
    "df_correl['Cyto']=cyto\n",
    "df_correl = df_correl.rename(columns={96:\"Cell-free\"})\n",
    "print(df_correl)\n",
    "\n",
    "plt.scatter('Cell-free','Cyto',data=df_correl)\n",
    "plt.show()"
   ]
  },
  {
   "cell_type": "code",
   "execution_count": 40,
   "id": "ab90ea16",
   "metadata": {},
   "outputs": [
    {
     "data": {
      "text/html": [
       "<div>\n",
       "<style scoped>\n",
       "    .dataframe tbody tr th:only-of-type {\n",
       "        vertical-align: middle;\n",
       "    }\n",
       "\n",
       "    .dataframe tbody tr th {\n",
       "        vertical-align: top;\n",
       "    }\n",
       "\n",
       "    .dataframe thead th {\n",
       "        text-align: right;\n",
       "    }\n",
       "</style>\n",
       "<table border=\"1\" class=\"dataframe\">\n",
       "  <thead>\n",
       "    <tr style=\"text-align: right;\">\n",
       "      <th></th>\n",
       "      <th>Cell-free</th>\n",
       "      <th>Cyto</th>\n",
       "    </tr>\n",
       "  </thead>\n",
       "  <tbody>\n",
       "    <tr>\n",
       "      <th>Cell-free</th>\n",
       "      <td>1.000000</td>\n",
       "      <td>0.787611</td>\n",
       "    </tr>\n",
       "    <tr>\n",
       "      <th>Cyto</th>\n",
       "      <td>0.787611</td>\n",
       "      <td>1.000000</td>\n",
       "    </tr>\n",
       "  </tbody>\n",
       "</table>\n",
       "</div>"
      ],
      "text/plain": [
       "           Cell-free      Cyto\n",
       "Cell-free   1.000000  0.787611\n",
       "Cyto        0.787611  1.000000"
      ]
     },
     "execution_count": 40,
     "metadata": {},
     "output_type": "execute_result"
    }
   ],
   "source": [
    "df_correl.corr()"
   ]
  },
  {
   "cell_type": "code",
   "execution_count": 38,
   "id": "cd24c11e",
   "metadata": {},
   "outputs": [
    {
     "name": "stdout",
     "output_type": "stream",
     "text": [
      "The pearson correlation coefficient is 0.79 with p_value= 0.02\n",
      "The spearman correlation coefficient is 0.81 with p_value= 0.01\n"
     ]
    }
   ],
   "source": [
    "print('The pearson correlation coefficient is '+ str(round(pearsonr(df_correl['Cell-free'],df_correl['Cyto'])[0],2))\n",
    "      + ' with p_value= '+str(round(pearsonr(df_correl['Cell-free'],df_correl['Cyto'])[1],2)))\n",
    "\n",
    "print('The spearman correlation coefficient is '+ str(round(spearmanr(df_correl['Cell-free'],df_correl['Cyto'])[0],2))\n",
    "      + ' with p_value= '+str(round(spearmanr(df_correl['Cell-free'],df_correl['Cyto'])[1],2)))\n"
   ]
  },
  {
   "cell_type": "markdown",
   "id": "d7a32954",
   "metadata": {},
   "source": [
    "The values look correlated, lets try to fit a linear regression"
   ]
  },
  {
   "cell_type": "markdown",
   "id": "4021838d",
   "metadata": {},
   "source": [
    "# Linear regression"
   ]
  },
  {
   "cell_type": "markdown",
   "id": "a78b991c",
   "metadata": {},
   "source": [
    "Trying to predict Y by X in our case predict cytometer data from cell free data "
   ]
  },
  {
   "cell_type": "code",
   "execution_count": 113,
   "id": "0a66783f",
   "metadata": {
    "scrolled": true
   },
   "outputs": [
    {
     "name": "stdout",
     "output_type": "stream",
     "text": [
      "Slope: 110781.425463\n",
      "Intercept: 11345.959\n",
      "Mean squared error: 252362730.229\n",
      "Coefficient of determination: 0.620\n",
      "F value: 9.8\n",
      "P-value: 2.03e-02\n"
     ]
    },
    {
     "data": {
      "image/png": "[encoded data removed]",
      "text/plain": [
       "<Figure size 720x720 with 1 Axes>"
      ]
     },
     "metadata": {
      "needs_background": "light"
     },
     "output_type": "display_data"
    }
   ],
   "source": [
    "y = df_correl['Cyto'].to_numpy().reshape(-1,1) # sklearn wants 2D arrays in case of several independent variables\n",
    "X = df_correl['Cell-free'].to_numpy().reshape(-1,1)\n",
    "reg = linear_model.LinearRegression()\n",
    "reg.fit(X, y)\n",
    "\n",
    "print('Slope: %.6f' % reg.coef_)\n",
    "print('Intercept: %.3f' % reg.intercept_)\n",
    "pred_y = reg.predict(X)\n",
    "\n",
    "print(\"Mean squared error: %.3f\" % metrics.mean_squared_error(y, pred_y))\n",
    "print(\"Coefficient of determination: %.3f\" % metrics.r2_score(y, pred_y))\n",
    "\n",
    "# significance\n",
    "f_stat = feature_selection.f_regression(X, y[:,0])\n",
    "print('F value: %.1f' % f_stat[0])\n",
    "print('P-value: %.2e' % f_stat[1])\n",
    "\n",
    "# visualization\n",
    "fig,ax = plt.subplots()\n",
    "fig.set_size_inches(10,10)\n",
    "\n",
    "sns.set_context(\"talk\")\n",
    "plt.scatter(X, y, color = 'gray')\n",
    "plt.plot(X, pred_y, color = 'blue')\n",
    "plt.title('cellfree versus cytometer for integrases')\n",
    "plt.ylabel('Cytometer data (fluorescence in RFU)')\n",
    "plt.xlabel('Cellfree data (in equivalent FITC µM)')\n",
    "plt.tight_layout()\n",
    "plt.savefig('plots/linear_regression_integrase.png',dpi=300)\n",
    "plt.show()"
   ]
  },
  {
   "cell_type": "markdown",
   "id": "99022961",
   "metadata": {},
   "source": [
    "# Robust linear regression (to account for outliers)"
   ]
  },
  {
   "cell_type": "markdown",
   "id": "c5787396",
   "metadata": {},
   "source": [
    "## Huber regression"
   ]
  },
  {
   "cell_type": "code",
   "execution_count": 78,
   "id": "cca639e2",
   "metadata": {},
   "outputs": [
    {
     "name": "stdout",
     "output_type": "stream",
     "text": [
      "Slope: 12034.769443\n",
      "Intercept: 0.000\n",
      "Mean squared error: 170086238396628288.000\n",
      "Coefficient of determination: -5062447340242391040.000\n",
      "F value: 9.8\n",
      "P-value: 2.03e-02\n"
     ]
    },
    {
     "data": {
      "image/png": "[encoded data removed]",
      "text/plain": [
       "<Figure size 432x288 with 1 Axes>"
      ]
     },
     "metadata": {
      "needs_background": "light"
     },
     "output_type": "display_data"
    }
   ],
   "source": [
    "X = df_correl['Cyto'].to_numpy().reshape(-1,1) # sklearn wants 2D arrays in case of several independent variables\n",
    "y = df_correl['Cell-free'].to_numpy().reshape(-1,1)\n",
    "reg = HuberRegressor(epsilon=1,fit_intercept=False,max_iter=1000)\n",
    "reg.fit(y, X)\n",
    "\n",
    "print('Slope: %.6f' % reg.coef_)\n",
    "print('Intercept: %.3f' % reg.intercept_)\n",
    "pred_X = reg.predict(y)\n",
    "\n",
    "print(\"Mean squared error: %.3f\" % metrics.mean_squared_error(y, pred_y))\n",
    "print(\"Coefficient of determination: %.3f\" % metrics.r2_score(y, pred_y))\n",
    "\n",
    "# significance\n",
    "f_stat = feature_selection.f_regression(X, y[:,0])\n",
    "print('F value: %.1f' % f_stat[0])\n",
    "print('P-value: %.2e' % f_stat[1])\n",
    "\n",
    "# visualization\n",
    "fig,ax = plt.subplots()\n",
    "#fig.set_size_inches(10,10)\n",
    "\n",
    "sns.set_context(\"talk\")\n",
    "plt.scatter(y, X, color = 'gray')\n",
    "plt.plot(y, pred_X, color = 'blue')\n",
    "plt.title('Cytometer versus cellfree for integrases')\n",
    "#plt.xlabel('Cytometer data (fluorescence in RFU)')\n",
    "#plt.ylabel('Cellfree data (in equivalent FITC µM)')\n",
    "plt.tight_layout()\n",
    "#plt.savefig('plots/linear_regression_integrase.png',dpi=300)\n",
    "plt.show()"
   ]
  },
  {
   "cell_type": "markdown",
   "id": "10527a96",
   "metadata": {},
   "source": [
    "Doesn't work that well probably due to the low number of data points "
   ]
  },
  {
   "cell_type": "markdown",
   "id": "4505ce76",
   "metadata": {},
   "source": [
    "## Quantile regression: less sensitive than mean"
   ]
  },
  {
   "cell_type": "code",
   "execution_count": 114,
   "id": "86286b33",
   "metadata": {},
   "outputs": [
    {
     "name": "stdout",
     "output_type": "stream",
     "text": [
      "                         QuantReg Regression Results                          \n",
      "==============================================================================\n",
      "Dep. Variable:                   Cyto   Pseudo R-squared:               0.4975\n",
      "Model:                       QuantReg   Bandwidth:                   2.819e+04\n",
      "Method:                 Least Squares   Sparsity:                    5.289e+04\n",
      "Date:                Sun, 20 Mar 2022   No. Observations:                    8\n",
      "Time:                        16:18:40   Df Residuals:                        6\n",
      "                                        Df Model:                            1\n",
      "==============================================================================\n",
      "                 coef    std err          t      P>|t|      [0.025      0.975]\n",
      "------------------------------------------------------------------------------\n",
      "Intercept    294.1449   1.21e+04      0.024      0.981   -2.93e+04    2.99e+04\n",
      "cellfree    1.703e+05    5.1e+04      3.338      0.016    4.54e+04    2.95e+05\n",
      "==============================================================================\n"
     ]
    }
   ],
   "source": [
    "df_c = df_correl.rename(columns={'Cell-free':'cellfree'})\n",
    "#print(df_c.head())\n",
    "\n",
    "model = smf.quantreg('Cyto ~ cellfree', df_c).fit(q=0.5)\n",
    "\n",
    "#view model summary\n",
    "print(model.summary())"
   ]
  },
  {
   "cell_type": "code",
   "execution_count": 116,
   "id": "082c0941",
   "metadata": {},
   "outputs": [
    {
     "data": {
      "image/png": "[encoded data removed]",
      "text/plain": [
       "<Figure size 576x432 with 1 Axes>"
      ]
     },
     "metadata": {
      "needs_background": "light"
     },
     "output_type": "display_data"
    }
   ],
   "source": [
    "fig, ax = plt.subplots(figsize=(8, 6))\n",
    "\n",
    "cellfree= df_c['cellfree']\n",
    "cyto = df_c['Cyto']\n",
    "\n",
    "#get y values\n",
    "get_y = lambda a, b: a + b * cellfree\n",
    "y = get_y(model.params['Intercept'], model.params['cellfree'])\n",
    "\n",
    "#plot data points with quantile regression equation overlaid\n",
    "ax.plot(cellfree, y, color='black')\n",
    "ax.scatter(cellfree, cyto, alpha=.3)\n",
    "plt.title('Quantile regression')\n",
    "ax.set_ylabel('Cytometer data (fluorescence in RFU)')\n",
    "ax.set_xlabel('Cellfree data (in equivalent FITC µM)')\n",
    "plt.tight_layout()\n",
    "plt.savefig('plots/quantile_regression_integrase.png',dpi=300)\n",
    "\n",
    "plt.show()"
   ]
  },
  {
   "cell_type": "markdown",
   "id": "48a8a551",
   "metadata": {},
   "source": [
    "# Tests"
   ]
  },
  {
   "cell_type": "code",
   "execution_count": 165,
   "id": "69442e8e",
   "metadata": {},
   "outputs": [
    {
     "name": "stdout",
     "output_type": "stream",
     "text": [
      "[31370.285, 16232.096, 63220.477, 373.34436, 58798.445, 162.51492, 53784.26, 149.13892]\n"
     ]
    }
   ],
   "source": [
    "def f(x, r):\n",
    "    \"\"\"Discrete logistic equation with parameter r\"\"\"\n",
    "    return r*x*(1-x)\n",
    "\n",
    "def logifunc(x,A,x0,k,off):\n",
    "    return A / (1 + np.exp(-k*(x-x0)))+off\n",
    "\n",
    "y = df_correl['Cyto'].tolist() # sklearn wants 2D arrays in case of several independent variables\n",
    "X = sorted(df_correl['Cell-free'].tolist())\n",
    "\n",
    "print(y)\n",
    "def error2(param,data):\n",
    "    X = data[0]\n",
    "    y = data[1]\n",
    "    r = param[0]\n",
    "    error = []\n",
    "    z =[]\n",
    "    for i in range(len(X)):\n",
    "        z.append(f(X[i],r))\n",
    "    for i in range(len(z)):\n",
    "        error.append((z[i]-y[i])**2)\n",
    "        \n",
    "    errors = np.sum(error)\n",
    "    return errors\n",
    "\n",
    "param =[10000]\n",
    "s2 = minimize(error2,param,args = (data),method='Powell')\n",
    "#print(s2.x)\n",
    "#print(error2(s2.x,data))\n",
    "\n",
    "\n",
    "def error(param,data):\n",
    "    X = data[0]\n",
    "    y = data[1]\n",
    "    A = param[0]\n",
    "    x0 = param[1]\n",
    "    k = param[2]\n",
    "    off = param[3]\n",
    "    error = []\n",
    "    z =[]\n",
    "    for i in range(len(X)):\n",
    "        z.append(logifunc(X[i],A,x0,k,off))\n",
    "    for i in range(len(z)):\n",
    "        error.append((z[i]-y[i])**2)\n",
    "        \n",
    "    errors = np.sum(error)\n",
    "    return errors\n",
    "\n",
    "#print(error([64220.476933747086, 39999.99936916684, 9999.99996262314, 28011.32021666667],[X,y]))\n",
    "parami = [64220.476933747086, 39999.99936916684, 9999.99996262314, 28011.32021666667]\n",
    "data = [X,y]\n",
    "s = minimize(error,parami,args = (data),method='Powell',bounds=([(0,max(y)+1000),(0,40000),(0,100000),(min(y),max(y))]))\n"
   ]
  }
 ],
 "metadata": {
  "kernelspec": {
   "display_name": "Python 3 (ipykernel)",
   "language": "python",
   "name": "python3"
  },
  "language_info": {
   "codemirror_mode": {
    "name": "ipython",
    "version": 3
   },
   "file_extension": ".py",
   "mimetype": "text/x-python",
   "name": "python",
   "nbconvert_exporter": "python",
   "pygments_lexer": "ipython3",
   "version": "3.8.11"
  }
 },
 "nbformat": 4,
 "nbformat_minor": 5
}
